{
  "nbformat": 4,
  "nbformat_minor": 0,
  "metadata": {
    "colab": {
      "name": "algebra_liniowa.ipynb",
      "provenance": [],
      "authorship_tag": "ABX9TyM3xyKEEUF2eVHTZQTZKJTH",
      "include_colab_link": true
    },
    "kernelspec": {
      "name": "python3",
      "display_name": "Python 3"
    },
    "language_info": {
      "name": "python"
    }
  },
  "cells": [
    {
      "cell_type": "markdown",
      "metadata": {
        "id": "view-in-github",
        "colab_type": "text"
      },
      "source": [
        "<a href=\"https://colab.research.google.com/github/Szynaman123/data-science-bootcamp/blob/main/algebra_liniowa.ipynb\" target=\"_parent\"><img src=\"https://colab.research.google.com/assets/colab-badge.svg\" alt=\"Open In Colab\"/></a>"
      ]
    },
    {
      "cell_type": "code",
      "metadata": {
        "id": "83RylyhfT6pK"
      },
      "source": [
        "import numpy as np"
      ],
      "execution_count": 2,
      "outputs": []
    },
    {
      "cell_type": "code",
      "metadata": {
        "colab": {
          "base_uri": "https://localhost:8080/"
        },
        "id": "XksQ5p1dUAan",
        "outputId": "7c8b10c9-d4df-44d1-f7f3-052824b246c8"
      },
      "source": [
        "v1=np.array([-1,4])\n",
        "v1"
      ],
      "execution_count": null,
      "outputs": [
        {
          "output_type": "execute_result",
          "data": {
            "text/plain": [
              "array([-1,  4])"
            ]
          },
          "metadata": {},
          "execution_count": 4
        }
      ]
    },
    {
      "cell_type": "code",
      "metadata": {
        "colab": {
          "base_uri": "https://localhost:8080/"
        },
        "id": "cy5W2niMUNlD",
        "outputId": "cddb772f-d1c4-410c-c8b5-40077173466f"
      },
      "source": [
        "np.linalg.norm(v1)"
      ],
      "execution_count": null,
      "outputs": [
        {
          "output_type": "execute_result",
          "data": {
            "text/plain": [
              "4.123105625617661"
            ]
          },
          "metadata": {},
          "execution_count": 5
        }
      ]
    },
    {
      "cell_type": "code",
      "metadata": {
        "colab": {
          "base_uri": "https://localhost:8080/"
        },
        "id": "VuvL6TyYUTVr",
        "outputId": "066d5c10-214f-47ca-c24c-b907f9b253c8"
      },
      "source": [
        "v2=np.array([-10,10,13])\n",
        "np.linalg.norm(v2)"
      ],
      "execution_count": null,
      "outputs": [
        {
          "output_type": "execute_result",
          "data": {
            "text/plain": [
              "19.209372712298546"
            ]
          },
          "metadata": {},
          "execution_count": 6
        }
      ]
    },
    {
      "cell_type": "code",
      "metadata": {
        "colab": {
          "base_uri": "https://localhost:8080/"
        },
        "id": "OC9jOEkUUlf5",
        "outputId": "b1fb1848-2242-4904-b2f4-ec4d592042af"
      },
      "source": [
        "p=np.array([3,0])\n",
        "q=np.array([0,4])\n",
        "np.linalg.norm(p-q)"
      ],
      "execution_count": null,
      "outputs": [
        {
          "output_type": "execute_result",
          "data": {
            "text/plain": [
              "5.0"
            ]
          },
          "metadata": {},
          "execution_count": 7
        }
      ]
    },
    {
      "cell_type": "code",
      "metadata": {
        "colab": {
          "base_uri": "https://localhost:8080/"
        },
        "id": "cxiEn_ISVJui",
        "outputId": "4219dda7-2274-43a8-96df-e9f0b25c8c83"
      },
      "source": [
        "p=np.array([3,0,1])\n",
        "q=np.array([0,4,2])\n",
        "np.linalg.norm(p-q)"
      ],
      "execution_count": null,
      "outputs": [
        {
          "output_type": "execute_result",
          "data": {
            "text/plain": [
              "5.0990195135927845"
            ]
          },
          "metadata": {},
          "execution_count": 8
        }
      ]
    },
    {
      "cell_type": "code",
      "metadata": {
        "id": "Bjwh4WxSgir9"
      },
      "source": [
        "np.set_printoptions(precision=4,suppress=True)"
      ],
      "execution_count": 8,
      "outputs": []
    },
    {
      "cell_type": "code",
      "metadata": {
        "id": "0C8bXF9KVWi2",
        "colab": {
          "base_uri": "https://localhost:8080/"
        },
        "outputId": "19fe18ca-0e4c-4929-c4b4-fa312ca92074"
      },
      "source": [
        "A=np.array([[1,4,1],\n",
        "            [2,3,2],\n",
        "            [3,3,2]])\n",
        "print(np.linalg.inv(A))"
      ],
      "execution_count": 9,
      "outputs": [
        {
          "output_type": "stream",
          "name": "stdout",
          "text": [
            "[[-0.  -1.   1. ]\n",
            " [ 0.4 -0.2  0. ]\n",
            " [-0.6  1.8 -1. ]]\n"
          ]
        }
      ]
    },
    {
      "cell_type": "code",
      "metadata": {
        "id": "hex6TbVCgPvD"
      },
      "source": [
        ""
      ],
      "execution_count": null,
      "outputs": []
    }
  ]
}